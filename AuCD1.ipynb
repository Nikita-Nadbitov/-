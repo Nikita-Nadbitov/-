{
  "nbformat": 4,
  "nbformat_minor": 0,
  "metadata": {
    "colab": {
      "name": "AuCD1.ipynb",
      "provenance": [],
      "authorship_tag": "ABX9TyMqEpkIlaeQCPnh/FcvUbZ+",
      "include_colab_link": true
    },
    "kernelspec": {
      "name": "python3",
      "display_name": "Python 3"
    }
  },
  "cells": [
    {
      "cell_type": "markdown",
      "metadata": {
        "id": "view-in-github",
        "colab_type": "text"
      },
      "source": [
        "<a href=\"https://colab.research.google.com/github/Nikita-Nadbitov/-/blob/master/AuCD1.ipynb\" target=\"_parent\"><img src=\"https://colab.research.google.com/assets/colab-badge.svg\" alt=\"Open In Colab\"/></a>"
      ]
    },
    {
      "cell_type": "markdown",
      "metadata": {
        "id": "Bmn9S0IpaxoM",
        "colab_type": "text"
      },
      "source": [
        "$$z_1=\\frac{x^2+2x-3+(x+1)*\\sqrt(x^2-9)}{x^2-2x-3+(x-1)*\\sqrt(x^2-9)}$$"
      ]
    },
    {
      "cell_type": "markdown",
      "metadata": {
        "id": "DRAYF91fay4s",
        "colab_type": "text"
      },
      "source": [
        "$$z_2=\\sqrt \\frac{x+3}{x-3}$$"
      ]
    },
    {
      "cell_type": "code",
      "metadata": {
        "id": "pkwP5hCia2u0",
        "colab_type": "code",
        "colab": {}
      },
      "source": [
        "import math\n",
        "x = float (input (\"введите значение x\"))\n",
        "z1 = (x**2+2*x-3+((x+1))*sqrt(x**2-9)/(x**2-2*x-3+((x-1))*sqrt(x**2-9)\n",
        "z2 = sqrt((x+3)/(x-3))\n",
        "print (z1)\n",
        "print (z2)"
      ],
      "execution_count": 0,
      "outputs": []
    }
  ]
}