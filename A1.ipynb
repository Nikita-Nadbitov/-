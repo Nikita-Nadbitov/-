{
  "nbformat": 4,
  "nbformat_minor": 0,
  "metadata": {
    "colab": {
      "name": "AuCD1.ipynb",
      "provenance": [],
      "collapsed_sections": [],
      "authorship_tag": "ABX9TyNTtcbgyWfZdsVUd4i/CE6k",
      "include_colab_link": true
    },
    "kernelspec": {
      "name": "python3",
      "display_name": "Python 3"
    }
  },
  "cells": [
    {
      "cell_type": "markdown",
      "metadata": {
        "id": "view-in-github",
        "colab_type": "text"
      },
      "source": [
        "<a href=\"https://colab.research.google.com/github/Nikita-Nadbitov/-/blob/master/AuCD1.ipynb\" target=\"_parent\"><img src=\"https://colab.research.google.com/assets/colab-badge.svg\" alt=\"Open In Colab\"/></a>"
      ]
    },
    {
      "cell_type": "markdown",
      "metadata": {
        "id": "DY5oLNL-UVoa",
        "colab_type": "text"
      },
      "source": [
        "$$z_1=\\frac{sin\\alpha+cos(2\\beta-\\alpha)}{cos\\alpha-sin(2\\beta-\\alpha)}$$"
      ]
    },
    {
      "cell_type": "markdown",
      "metadata": {
        "id": "9BXZZq_rUYCF",
        "colab_type": "text"
      },
      "source": [
        "$$z_2=\\frac{1+sin2\\beta}{cos2\\beta}$$"
      ]
    },
    {
      "cell_type": "code",
      "metadata": {
        "id": "pkwP5hCia2u0",
        "colab_type": "code",
        "colab": {
          "base_uri": "https://localhost:8080/",
          "height": 85
        },
        "outputId": "86aa43a4-91dc-4d24-8d76-33d2f0cfeaaa"
      },
      "source": [
        "import math\n",
        "a = float (input (\"введите значение a = \"))\n",
        "b = float (input (\"введите значение b = \"))\n",
        "z1 = (math.sin(a)+math.cos(2*b-a))/(math.cos(a)-math.sin(2*b-a))\n",
        "z2 = (1+math.sin(2*b))/(math.cos(2*b))\n",
        "print (z1)\n",
        "print (z2)"
      ],
      "execution_count": 47,
      "outputs": [
        {
          "output_type": "stream",
          "text": [
            "введите значение a = 6\n",
            "введите значение b = 4\n",
            "-13.672562091910766\n",
            "-13.67256209191075\n"
          ],
          "name": "stdout"
        }
      ]
    },
    {
      "cell_type": "code",
      "metadata": {
        "id": "-Lbka-gLYnxH",
        "colab_type": "code",
        "colab": {}
      },
      "source": [
        ""
      ],
      "execution_count": 0,
      "outputs": []
    }
  ]
}
